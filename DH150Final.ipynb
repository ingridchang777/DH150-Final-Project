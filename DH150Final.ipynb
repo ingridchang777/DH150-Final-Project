{
 "cells": [
  {
   "cell_type": "markdown",
   "id": "428ebfdd-ea80-4968-b8d0-ac26d6c007d3",
   "metadata": {},
   "source": [
    "## DH 150 Machine Learning for Humanists\n",
    "## Ingrid Chang, July 27th 2022<br> \n",
    "# Final Project - Analysis of Student Performance<br> "
   ]
  },
  {
   "cell_type": "markdown",
   "id": "fb93d282-edb4-4f0f-9961-046a1fa616ac",
   "metadata": {},
   "source": [
    "## Dataset Introduction"
   ]
  },
  {
   "cell_type": "markdown",
   "id": "af9426df-7291-4a71-a8b4-f96cfba111dc",
   "metadata": {},
   "source": [
    "### Data Summary\n",
    "\n",
    "This dataset was retrieved through the UC Irvine Machine Learning Repository. It was used for research regarding student achievement in secondary education. The goal was to derive insights relating various demographic, social, and school-related variables to students' academic success in order to develop more efficient student prediction tools, improve quality of education, and enhance school resource management in Portugal's struggling school system. Data was collected from administration school reports as well as questionnaires given to students from two schools. The data was then modeled under five level classification and regression tasks. \n",
    "\n",
    "The model developed was able to predict student achievement with high accuracy with access to first and second school period grades, G1 and G2. At the same time in some cases, other school-related factors such as number of absences or reason for choosing the school, demographics such as parent’s job and education or student age, as well as social and wellbeing variables such as time spent with friends and alcohol consumption, can also play a significant role in student outcomes. Specifically, when no grades are available, the number of past failures (which is related to prior student performance) is the most telling variable."
   ]
  },
  {
   "cell_type": "markdown",
   "id": "7a247be7-271e-4939-ab41-66297aa69c4c",
   "metadata": {},
   "source": [
    "### Data Attributes\n",
    "\n",
    "As taken from the original study:\n",
    "\n",
    "1 school - student's school (binary: 'GP' - Gabriel Pereira or 'MS' - Mousinho da Silveira)<br> \n",
    "2 sex - student's sex (binary: 'F' - female or 'M' - male)<br> \n",
    "3 age - student's age (numeric: from 15 to 22)<br> \n",
    "4 address - student's home address type (binary: 'U' - urban or 'R' - rural)<br> \n",
    "5 famsize - family size (binary: 'LE3' - less or equal to 3 or 'GT3' - greater than 3)<br> \n",
    "6 Pstatus - parent's cohabitation status (binary: 'T' - living together or 'A' - apart)<br> \n",
    "7 Medu - mother's education (numeric: 0 - none, 1 - primary education (4th grade), 2 - 5th to 9th grade, 3 - secondary education or 4 - higher education)<br> \n",
    "8 Fedu - father's education (numeric: 0 - none, 1 - primary education (4th grade), 2 - 5th to 9th grade, 3 - secondary education or 4 - higher education)<br> \n",
    "9 Mjob - mother's job (nominal: 'teacher', 'health' care related, civil 'services' (e.g. administrative or police), 'at_home' or 'other')<br> \n",
    "10 Fjob - father's job (nominal: 'teacher', 'health' care related, civil 'services' (e.g. administrative or police), 'at_home' or 'other')<br> \n",
    "11 reason - reason to choose this school (nominal: close to 'home', school 'reputation', 'course' preference or 'other')<br> \n",
    "12 guardian - student's guardian (nominal: 'mother', 'father' or 'other')<br> \n",
    "13 traveltime - home to school travel time (numeric: 1 - <15 min., 2 - 15 to 30 min., 3 - 30 min. to 1 hour, or 4 - >1 hour)<br> \n",
    "14 studytime - weekly study time (numeric: 1 - <2 hours, 2 - 2 to 5 hours, 3 - 5 to 10 hours, or 4 - >10 hours)<br> \n",
    "15 failures - number of past class failures (numeric: n if 1<=n<3, else 4)<br> \n",
    "16 schoolsup - extra educational support (binary: yes or no)<br> \n",
    "17 famsup - family educational support (binary: yes or no)<br> \n",
    "18 paid - extra paid classes within the course subject (Math or Portuguese) (binary: yes or no)<br> \n",
    "19 activities - extra-curricular activities (binary: yes or no)<br> \n",
    "20 nursery - attended nursery school (binary: yes or no)<br> \n",
    "21 higher - wants to take higher education (binary: yes or no)<br> \n",
    "22 internet - Internet access at home (binary: yes or no)<br> \n",
    "23 romantic - with a romantic relationship (binary: yes or no)<br> \n",
    "24 famrel - quality of family relationships (numeric: from 1 - very bad to 5 - excellent)<br> \n",
    "25 freetime - free time after school (numeric: from 1 - very low to 5 - very high)<br> \n",
    "26 goout - going out with friends (numeric: from 1 - very low to 5 - very high)<br> \n",
    "27 Dalc - workday alcohol consumption (numeric: from 1 - very low to 5 - very high)<br> \n",
    "28 Walc - weekend alcohol consumption (numeric: from 1 - very low to 5 - very high)<br> \n",
    "29 health - current health status (numeric: from 1 - very bad to 5 - very good)<br> \n",
    "30 absences - number of school absences (numeric: from 0 to 93)<br> \n",
    "\n",
    "31 G1 - first period grade (numeric: from 0 to 20)<br> \n",
    "31 G2 - second period grade (numeric: from 0 to 20)<br> \n",
    "32 G3 - final grade (numeric: from 0 to 20, output target)"
   ]
  },
  {
   "cell_type": "markdown",
   "id": "b593feae-5633-429b-b192-65f28863fa7f",
   "metadata": {},
   "source": [
    "###  Original Study Approach\n",
    "\n",
    "The researchers used three supervised approaches to create their models: binary classification (pass if G3≥10, else fail),5-Level classification (based on the Erasmus1 grade conversion system), and regression (the G3 value, which is a numeric output between 0 and 20). It was conducted using the RMiner library and rrpart (for decision trees), randomForest (for random forest), nnet (for neural networks) and kernlab (for support vector machine) packages. For the neural network and support vector machine models, all the nominal variables of the data set were standarized to a zero mean and to have on standard deviation. Hyperparamters for RF, NN, and SVM were optimized with an internal grid search, meaning the hyperparameter were based off of training data only. 20 passes of 10-fold cross-validations were run, totaling 200 simulations.\n",
    "\n",
    "Among the different cases tested, random forest followed by decision tree produced the best reults. In general, the nonlinear function methods were outperformed by the tree based ones. This behavior is hypothesized by the\n",
    "high number of irrelevant inputs that the nonlinear functions are sensitive to. In fact, the RF predictions generated were extremely similar to the observed valies. It was found in particular that predictive performance decreases when the second period grade, G2, is not known.\n",
    "\n",
    "They also believe that if the study was conducted in an automated online learning environment, additional features such as grades from previous school years and valuable feedback from school professionals could be collected (this study was off-line learning, ie. working with a static dataset). They also would like to use more automatic feature selection methods in future modeling because only a small portion of the input variables turned out to be relevant in this study."
   ]
  },
  {
   "cell_type": "markdown",
   "id": "06997ef1-4f10-40aa-968a-37023bebfc68",
   "metadata": {},
   "source": [
    "## Setup & Data Exploration"
   ]
  },
  {
   "cell_type": "code",
   "execution_count": 1,
   "id": "9f8597fc-a757-4280-a219-52aa9594124f",
   "metadata": {},
   "outputs": [],
   "source": [
    "#import modules\n",
    "import sklearn.datasets\n",
    "import numpy as np\n",
    "import pandas as pd\n",
    "import matplotlib.pyplot as plt\n",
    "import seaborn as sns"
   ]
  },
  {
   "cell_type": "code",
   "execution_count": 2,
   "id": "32ed64ea-57b4-42d6-a05b-f37497442a61",
   "metadata": {},
   "outputs": [],
   "source": [
    "#import chosen file as a dataframe\n",
    "input_file = \"student-mat.csv\"\n",
    "df = pd.read_csv(input_file, header=0, delimiter=';')"
   ]
  },
  {
   "cell_type": "code",
   "execution_count": 3,
   "id": "8ec76d27-3177-4a29-8fc5-818ed73354a5",
   "metadata": {},
   "outputs": [
    {
     "data": {
      "text/html": [
       "<div>\n",
       "<style scoped>\n",
       "    .dataframe tbody tr th:only-of-type {\n",
       "        vertical-align: middle;\n",
       "    }\n",
       "\n",
       "    .dataframe tbody tr th {\n",
       "        vertical-align: top;\n",
       "    }\n",
       "\n",
       "    .dataframe thead th {\n",
       "        text-align: right;\n",
       "    }\n",
       "</style>\n",
       "<table border=\"1\" class=\"dataframe\">\n",
       "  <thead>\n",
       "    <tr style=\"text-align: right;\">\n",
       "      <th></th>\n",
       "      <th>school</th>\n",
       "      <th>sex</th>\n",
       "      <th>age</th>\n",
       "      <th>address</th>\n",
       "      <th>famsize</th>\n",
       "      <th>Pstatus</th>\n",
       "      <th>Medu</th>\n",
       "      <th>Fedu</th>\n",
       "      <th>Mjob</th>\n",
       "      <th>Fjob</th>\n",
       "      <th>...</th>\n",
       "      <th>famrel</th>\n",
       "      <th>freetime</th>\n",
       "      <th>goout</th>\n",
       "      <th>Dalc</th>\n",
       "      <th>Walc</th>\n",
       "      <th>health</th>\n",
       "      <th>absences</th>\n",
       "      <th>G1</th>\n",
       "      <th>G2</th>\n",
       "      <th>G3</th>\n",
       "    </tr>\n",
       "  </thead>\n",
       "  <tbody>\n",
       "    <tr>\n",
       "      <th>0</th>\n",
       "      <td>GP</td>\n",
       "      <td>F</td>\n",
       "      <td>18</td>\n",
       "      <td>U</td>\n",
       "      <td>GT3</td>\n",
       "      <td>A</td>\n",
       "      <td>4</td>\n",
       "      <td>4</td>\n",
       "      <td>at_home</td>\n",
       "      <td>teacher</td>\n",
       "      <td>...</td>\n",
       "      <td>4</td>\n",
       "      <td>3</td>\n",
       "      <td>4</td>\n",
       "      <td>1</td>\n",
       "      <td>1</td>\n",
       "      <td>3</td>\n",
       "      <td>6</td>\n",
       "      <td>5</td>\n",
       "      <td>6</td>\n",
       "      <td>6</td>\n",
       "    </tr>\n",
       "    <tr>\n",
       "      <th>1</th>\n",
       "      <td>GP</td>\n",
       "      <td>F</td>\n",
       "      <td>17</td>\n",
       "      <td>U</td>\n",
       "      <td>GT3</td>\n",
       "      <td>T</td>\n",
       "      <td>1</td>\n",
       "      <td>1</td>\n",
       "      <td>at_home</td>\n",
       "      <td>other</td>\n",
       "      <td>...</td>\n",
       "      <td>5</td>\n",
       "      <td>3</td>\n",
       "      <td>3</td>\n",
       "      <td>1</td>\n",
       "      <td>1</td>\n",
       "      <td>3</td>\n",
       "      <td>4</td>\n",
       "      <td>5</td>\n",
       "      <td>5</td>\n",
       "      <td>6</td>\n",
       "    </tr>\n",
       "    <tr>\n",
       "      <th>2</th>\n",
       "      <td>GP</td>\n",
       "      <td>F</td>\n",
       "      <td>15</td>\n",
       "      <td>U</td>\n",
       "      <td>LE3</td>\n",
       "      <td>T</td>\n",
       "      <td>1</td>\n",
       "      <td>1</td>\n",
       "      <td>at_home</td>\n",
       "      <td>other</td>\n",
       "      <td>...</td>\n",
       "      <td>4</td>\n",
       "      <td>3</td>\n",
       "      <td>2</td>\n",
       "      <td>2</td>\n",
       "      <td>3</td>\n",
       "      <td>3</td>\n",
       "      <td>10</td>\n",
       "      <td>7</td>\n",
       "      <td>8</td>\n",
       "      <td>10</td>\n",
       "    </tr>\n",
       "    <tr>\n",
       "      <th>3</th>\n",
       "      <td>GP</td>\n",
       "      <td>F</td>\n",
       "      <td>15</td>\n",
       "      <td>U</td>\n",
       "      <td>GT3</td>\n",
       "      <td>T</td>\n",
       "      <td>4</td>\n",
       "      <td>2</td>\n",
       "      <td>health</td>\n",
       "      <td>services</td>\n",
       "      <td>...</td>\n",
       "      <td>3</td>\n",
       "      <td>2</td>\n",
       "      <td>2</td>\n",
       "      <td>1</td>\n",
       "      <td>1</td>\n",
       "      <td>5</td>\n",
       "      <td>2</td>\n",
       "      <td>15</td>\n",
       "      <td>14</td>\n",
       "      <td>15</td>\n",
       "    </tr>\n",
       "    <tr>\n",
       "      <th>4</th>\n",
       "      <td>GP</td>\n",
       "      <td>F</td>\n",
       "      <td>16</td>\n",
       "      <td>U</td>\n",
       "      <td>GT3</td>\n",
       "      <td>T</td>\n",
       "      <td>3</td>\n",
       "      <td>3</td>\n",
       "      <td>other</td>\n",
       "      <td>other</td>\n",
       "      <td>...</td>\n",
       "      <td>4</td>\n",
       "      <td>3</td>\n",
       "      <td>2</td>\n",
       "      <td>1</td>\n",
       "      <td>2</td>\n",
       "      <td>5</td>\n",
       "      <td>4</td>\n",
       "      <td>6</td>\n",
       "      <td>10</td>\n",
       "      <td>10</td>\n",
       "    </tr>\n",
       "    <tr>\n",
       "      <th>...</th>\n",
       "      <td>...</td>\n",
       "      <td>...</td>\n",
       "      <td>...</td>\n",
       "      <td>...</td>\n",
       "      <td>...</td>\n",
       "      <td>...</td>\n",
       "      <td>...</td>\n",
       "      <td>...</td>\n",
       "      <td>...</td>\n",
       "      <td>...</td>\n",
       "      <td>...</td>\n",
       "      <td>...</td>\n",
       "      <td>...</td>\n",
       "      <td>...</td>\n",
       "      <td>...</td>\n",
       "      <td>...</td>\n",
       "      <td>...</td>\n",
       "      <td>...</td>\n",
       "      <td>...</td>\n",
       "      <td>...</td>\n",
       "      <td>...</td>\n",
       "    </tr>\n",
       "    <tr>\n",
       "      <th>390</th>\n",
       "      <td>MS</td>\n",
       "      <td>M</td>\n",
       "      <td>20</td>\n",
       "      <td>U</td>\n",
       "      <td>LE3</td>\n",
       "      <td>A</td>\n",
       "      <td>2</td>\n",
       "      <td>2</td>\n",
       "      <td>services</td>\n",
       "      <td>services</td>\n",
       "      <td>...</td>\n",
       "      <td>5</td>\n",
       "      <td>5</td>\n",
       "      <td>4</td>\n",
       "      <td>4</td>\n",
       "      <td>5</td>\n",
       "      <td>4</td>\n",
       "      <td>11</td>\n",
       "      <td>9</td>\n",
       "      <td>9</td>\n",
       "      <td>9</td>\n",
       "    </tr>\n",
       "    <tr>\n",
       "      <th>391</th>\n",
       "      <td>MS</td>\n",
       "      <td>M</td>\n",
       "      <td>17</td>\n",
       "      <td>U</td>\n",
       "      <td>LE3</td>\n",
       "      <td>T</td>\n",
       "      <td>3</td>\n",
       "      <td>1</td>\n",
       "      <td>services</td>\n",
       "      <td>services</td>\n",
       "      <td>...</td>\n",
       "      <td>2</td>\n",
       "      <td>4</td>\n",
       "      <td>5</td>\n",
       "      <td>3</td>\n",
       "      <td>4</td>\n",
       "      <td>2</td>\n",
       "      <td>3</td>\n",
       "      <td>14</td>\n",
       "      <td>16</td>\n",
       "      <td>16</td>\n",
       "    </tr>\n",
       "    <tr>\n",
       "      <th>392</th>\n",
       "      <td>MS</td>\n",
       "      <td>M</td>\n",
       "      <td>21</td>\n",
       "      <td>R</td>\n",
       "      <td>GT3</td>\n",
       "      <td>T</td>\n",
       "      <td>1</td>\n",
       "      <td>1</td>\n",
       "      <td>other</td>\n",
       "      <td>other</td>\n",
       "      <td>...</td>\n",
       "      <td>5</td>\n",
       "      <td>5</td>\n",
       "      <td>3</td>\n",
       "      <td>3</td>\n",
       "      <td>3</td>\n",
       "      <td>3</td>\n",
       "      <td>3</td>\n",
       "      <td>10</td>\n",
       "      <td>8</td>\n",
       "      <td>7</td>\n",
       "    </tr>\n",
       "    <tr>\n",
       "      <th>393</th>\n",
       "      <td>MS</td>\n",
       "      <td>M</td>\n",
       "      <td>18</td>\n",
       "      <td>R</td>\n",
       "      <td>LE3</td>\n",
       "      <td>T</td>\n",
       "      <td>3</td>\n",
       "      <td>2</td>\n",
       "      <td>services</td>\n",
       "      <td>other</td>\n",
       "      <td>...</td>\n",
       "      <td>4</td>\n",
       "      <td>4</td>\n",
       "      <td>1</td>\n",
       "      <td>3</td>\n",
       "      <td>4</td>\n",
       "      <td>5</td>\n",
       "      <td>0</td>\n",
       "      <td>11</td>\n",
       "      <td>12</td>\n",
       "      <td>10</td>\n",
       "    </tr>\n",
       "    <tr>\n",
       "      <th>394</th>\n",
       "      <td>MS</td>\n",
       "      <td>M</td>\n",
       "      <td>19</td>\n",
       "      <td>U</td>\n",
       "      <td>LE3</td>\n",
       "      <td>T</td>\n",
       "      <td>1</td>\n",
       "      <td>1</td>\n",
       "      <td>other</td>\n",
       "      <td>at_home</td>\n",
       "      <td>...</td>\n",
       "      <td>3</td>\n",
       "      <td>2</td>\n",
       "      <td>3</td>\n",
       "      <td>3</td>\n",
       "      <td>3</td>\n",
       "      <td>5</td>\n",
       "      <td>5</td>\n",
       "      <td>8</td>\n",
       "      <td>9</td>\n",
       "      <td>9</td>\n",
       "    </tr>\n",
       "  </tbody>\n",
       "</table>\n",
       "<p>395 rows × 33 columns</p>\n",
       "</div>"
      ],
      "text/plain": [
       "    school sex  age address famsize Pstatus  Medu  Fedu      Mjob      Fjob  \\\n",
       "0       GP   F   18       U     GT3       A     4     4   at_home   teacher   \n",
       "1       GP   F   17       U     GT3       T     1     1   at_home     other   \n",
       "2       GP   F   15       U     LE3       T     1     1   at_home     other   \n",
       "3       GP   F   15       U     GT3       T     4     2    health  services   \n",
       "4       GP   F   16       U     GT3       T     3     3     other     other   \n",
       "..     ...  ..  ...     ...     ...     ...   ...   ...       ...       ...   \n",
       "390     MS   M   20       U     LE3       A     2     2  services  services   \n",
       "391     MS   M   17       U     LE3       T     3     1  services  services   \n",
       "392     MS   M   21       R     GT3       T     1     1     other     other   \n",
       "393     MS   M   18       R     LE3       T     3     2  services     other   \n",
       "394     MS   M   19       U     LE3       T     1     1     other   at_home   \n",
       "\n",
       "     ... famrel freetime  goout  Dalc  Walc health absences  G1  G2  G3  \n",
       "0    ...      4        3      4     1     1      3        6   5   6   6  \n",
       "1    ...      5        3      3     1     1      3        4   5   5   6  \n",
       "2    ...      4        3      2     2     3      3       10   7   8  10  \n",
       "3    ...      3        2      2     1     1      5        2  15  14  15  \n",
       "4    ...      4        3      2     1     2      5        4   6  10  10  \n",
       "..   ...    ...      ...    ...   ...   ...    ...      ...  ..  ..  ..  \n",
       "390  ...      5        5      4     4     5      4       11   9   9   9  \n",
       "391  ...      2        4      5     3     4      2        3  14  16  16  \n",
       "392  ...      5        5      3     3     3      3        3  10   8   7  \n",
       "393  ...      4        4      1     3     4      5        0  11  12  10  \n",
       "394  ...      3        2      3     3     3      5        5   8   9   9  \n",
       "\n",
       "[395 rows x 33 columns]"
      ]
     },
     "execution_count": 3,
     "metadata": {},
     "output_type": "execute_result"
    }
   ],
   "source": [
    "#view imported dataframe\n",
    "df"
   ]
  },
  {
   "cell_type": "code",
   "execution_count": 4,
   "id": "196320f7-5587-4877-9556-6cbc402ce0dc",
   "metadata": {},
   "outputs": [
    {
     "data": {
      "text/plain": [
       "Index(['school', 'sex', 'age', 'address', 'famsize', 'Pstatus', 'Medu', 'Fedu',\n",
       "       'Mjob', 'Fjob', 'reason', 'guardian', 'traveltime', 'studytime',\n",
       "       'failures', 'schoolsup', 'famsup', 'paid', 'activities', 'nursery',\n",
       "       'higher', 'internet', 'romantic', 'famrel', 'freetime', 'goout', 'Dalc',\n",
       "       'Walc', 'health', 'absences', 'G1', 'G2', 'G3'],\n",
       "      dtype='object')"
      ]
     },
     "execution_count": 4,
     "metadata": {},
     "output_type": "execute_result"
    }
   ],
   "source": [
    "#view columns of dataframe\n",
    "df.columns"
   ]
  },
  {
   "cell_type": "markdown",
   "id": "e5c4b007-8a45-49ae-a27d-1d395728e0f5",
   "metadata": {},
   "source": [
    "#### To gain a better understanding of what I am working with, I created data visualizations of variables that I hypothesized might have insightful correlations in regards to indicating students' academic success or failure"
   ]
  },
  {
   "cell_type": "markdown",
   "id": "b44eccab-40db-40ba-9141-ef048c1c0df3",
   "metadata": {},
   "source": [
    "Assuming that parental status attributes to students' home stability, I thought that it would also influence the final grades of students. However, there seemed to be no significant difference in grade averages for students with parents who are together versus apart. There is however a larger range of grades of students whose parents are together."
   ]
  },
  {
   "cell_type": "code",
   "execution_count": 5,
   "id": "8ee497cf-636c-4bb9-ad02-3f077195ca02",
   "metadata": {},
   "outputs": [
    {
     "data": {
      "text/plain": [
       "<AxesSubplot:xlabel='Pstatus', ylabel='G3'>"
      ]
     },
     "execution_count": 5,
     "metadata": {},
     "output_type": "execute_result"
    },
    {
     "data": {
      "image/png": "[encoded data removed]",
      "text/plain": [
       "<Figure size 432x288 with 1 Axes>"
      ]
     },
     "metadata": {
      "needs_background": "light"
     },
     "output_type": "display_data"
    }
   ],
   "source": [
    "#plot of parental status (apart or together) vs G3 (final grade)\n",
    "sns.violinplot(data = df, x = 'Pstatus', y = 'G3')"
   ]
  },
  {
   "cell_type": "markdown",
   "id": "cb772369-5cb1-4fb3-af13-541118f73340",
   "metadata": {},
   "source": [
    "Unexpectedly, more study time did not seem to significantly improve grades, and vice versa, less study time did not seem to bring down grades substantially"
   ]
  },
  {
   "cell_type": "code",
   "execution_count": 6,
   "id": "8471c7f6-da4a-4576-b7b0-75b55dfd82a7",
   "metadata": {},
   "outputs": [
    {
     "data": {
      "text/plain": [
       "<AxesSubplot:xlabel='studytime', ylabel='G3'>"
      ]
     },
     "execution_count": 6,
     "metadata": {},
     "output_type": "execute_result"
    },
    {
     "data": {
      "image/png": "[encoded data removed]",
      "text/plain": [
       "<Figure size 432x288 with 1 Axes>"
      ]
     },
     "metadata": {
      "needs_background": "light"
     },
     "output_type": "display_data"
    }
   ],
   "source": [
    "#plot of time spent studying every week vs G3 (final grade)\n",
    "sns.violinplot(data = df, x = 'studytime', y = 'G3')"
   ]
  },
  {
   "cell_type": "markdown",
   "id": "ba3dfe00-0eb7-41c1-b7f4-e16cece56c8a",
   "metadata": {},
   "source": [
    "I hypothesized that there may some correlation students' grades and person whp they identify as their guardian, but there appears to be no significant correlation."
   ]
  },
  {
   "cell_type": "code",
   "execution_count": 7,
   "id": "5eaebb99-bed6-4d87-ab17-2698db4f062a",
   "metadata": {},
   "outputs": [
    {
     "data": {
      "text/plain": [
       "<AxesSubplot:xlabel='guardian', ylabel='G3'>"
      ]
     },
     "execution_count": 7,
     "metadata": {},
     "output_type": "execute_result"
    },
    {
     "data": {
      "image/png": "[encoded data removed]",
      "text/plain": [
       "<Figure size 432x288 with 1 Axes>"
      ]
     },
     "metadata": {
      "needs_background": "light"
     },
     "output_type": "display_data"
    }
   ],
   "source": [
    "#plot of guardian vs G3 (final grade)\n",
    "sns.violinplot(data = df, x = 'guardian', y = 'G3')"
   ]
  },
  {
   "cell_type": "markdown",
   "id": "a4d3e30f-4c4a-4cfa-9103-3b6cc394143b",
   "metadata": {},
   "source": [
    "I hypothesized that higher frequency of class failures would be correlated to lower grades, and this was indeed the case."
   ]
  },
  {
   "cell_type": "code",
   "execution_count": 8,
   "id": "2f027dd8-dcaf-4cc2-aad3-5ba92b4de7ca",
   "metadata": {},
   "outputs": [
    {
     "data": {
      "text/plain": [
       "<AxesSubplot:xlabel='failures', ylabel='G3'>"
      ]
     },
     "execution_count": 8,
     "metadata": {},
     "output_type": "execute_result"
    },
    {
     "data": {
      "image/png": "[encoded data removed]",
      "text/plain": [
       "<Figure size 432x288 with 1 Axes>"
      ]
     },
     "metadata": {
      "needs_background": "light"
     },
     "output_type": "display_data"
    }
   ],
   "source": [
    "#plot of past class failures vs G3 (final grade)\n",
    "sns.violinplot(data = df, x = 'failures', y = 'G3')"
   ]
  },
  {
   "cell_type": "markdown",
   "id": "47a53c38-cb82-450f-a587-fcf71a7488db",
   "metadata": {},
   "source": [
    "I hypothesized that students grades in the first period would likely be similar to their grades in their second period. It seems that there is such a correlation, especially among those with higher grades."
   ]
  },
  {
   "cell_type": "code",
   "execution_count": 9,
   "id": "017f639b-fa1c-495b-a03a-7fc05e1f6a8f",
   "metadata": {},
   "outputs": [
    {
     "data": {
      "text/plain": [
       "<AxesSubplot:xlabel='G1', ylabel='G2'>"
      ]
     },
     "execution_count": 9,
     "metadata": {},
     "output_type": "execute_result"
    },
    {
     "data": {
      "image/png": "[encoded data removed]",
      "text/plain": [
       "<Figure size 432x288 with 1 Axes>"
      ]
     },
     "metadata": {
      "needs_background": "light"
     },
     "output_type": "display_data"
    }
   ],
   "source": [
    "#plot of first period grades (G1) vs second period grades (G2)\n",
    "sns.violinplot(data = df, x = 'G1', y = 'G2')"
   ]
  },
  {
   "cell_type": "markdown",
   "id": "b7d43df0-30be-46e8-a2bc-47da3f7f4f76",
   "metadata": {},
   "source": [
    "Same as the logic to the previous prediction, I hypothesized that students grades in the first period would likely be similar to their grades in their third period. Again, it seems that there is such a correlation, especially among those with higher grades."
   ]
  },
  {
   "cell_type": "code",
   "execution_count": 10,
   "id": "1181beb2-371d-4a2e-b9c6-935ffb447fed",
   "metadata": {},
   "outputs": [
    {
     "data": {
      "text/plain": [
       "<AxesSubplot:xlabel='G1', ylabel='G3'>"
      ]
     },
     "execution_count": 10,
     "metadata": {},
     "output_type": "execute_result"
    },
    {
     "data": {
      "image/png": "[encoded data removed]",
      "text/plain": [
       "<Figure size 432x288 with 1 Axes>"
      ]
     },
     "metadata": {
      "needs_background": "light"
     },
     "output_type": "display_data"
    }
   ],
   "source": [
    "#plot of first period grades (G1) vs third period grades (G3)\n",
    "sns.violinplot(data = df, x = 'G1', y = 'G3')"
   ]
  },
  {
   "cell_type": "markdown",
   "id": "524803ec-abe0-44b8-9e7d-5c341dc043e4",
   "metadata": {},
   "source": [
    "Same as the logic to the previous two predictions, I hypothesized that students grades in the second period would likely be similar to their grades in their third period. Again, it seems that there is such a correlation, especially among those with higher grades."
   ]
  },
  {
   "cell_type": "code",
   "execution_count": 11,
   "id": "a303c74b-4334-49ad-9cf7-5c42243e0db2",
   "metadata": {},
   "outputs": [
    {
     "data": {
      "text/plain": [
       "<AxesSubplot:xlabel='G2', ylabel='G3'>"
      ]
     },
     "execution_count": 11,
     "metadata": {},
     "output_type": "execute_result"
    },
    {
     "data": {
      "image/png": "[encoded data removed]",
      "text/plain": [
       "<Figure size 432x288 with 1 Axes>"
      ]
     },
     "metadata": {
      "needs_background": "light"
     },
     "output_type": "display_data"
    }
   ],
   "source": [
    "sns.violinplot(data = df, x = 'G2', y = 'G3')"
   ]
  },
  {
   "cell_type": "markdown",
   "id": "8499b520-31e3-4cfb-9ee7-7d5b82bd4a26",
   "metadata": {},
   "source": [
    "I hypothesized that access to internet would be correlated to final grades, as internet access can be an indicator of socioeconomic status and family conditions. However, no significant correlation is apparent."
   ]
  },
  {
   "cell_type": "code",
   "execution_count": 12,
   "id": "db270cff-4353-407f-9d60-e09235552e9c",
   "metadata": {},
   "outputs": [
    {
     "data": {
      "text/plain": [
       "<AxesSubplot:xlabel='internet', ylabel='G3'>"
      ]
     },
     "execution_count": 12,
     "metadata": {},
     "output_type": "execute_result"
    },
    {
     "data": {
      "image/png": "[encoded data removed]",
      "text/plain": [
       "<Figure size 432x288 with 1 Axes>"
      ]
     },
     "metadata": {
      "needs_background": "light"
     },
     "output_type": "display_data"
    }
   ],
   "source": [
    "#plot of internet access vs G3 (final grade)\n",
    "sns.violinplot(data = df, x = 'internet', y = 'G3')"
   ]
  },
  {
   "cell_type": "markdown",
   "id": "2d9648e2-858d-47a9-84e1-4ab0349f6ced",
   "metadata": {},
   "source": [
    "I hypothesized that those with better family relationships may be enabled to focus and perform better at school, while those with worse relations would struggle more. Howerever, this does not seem to necessarily be the case."
   ]
  },
  {
   "cell_type": "code",
   "execution_count": 13,
   "id": "ebdbf73c-9ecb-4f49-be76-a2e501cdae0a",
   "metadata": {},
   "outputs": [
    {
     "data": {
      "text/plain": [
       "<AxesSubplot:xlabel='famrel', ylabel='G3'>"
      ]
     },
     "execution_count": 13,
     "metadata": {},
     "output_type": "execute_result"
    },
    {
     "data": {
      "image/png": "[encoded data removed]",
      "text/plain": [
       "<Figure size 432x288 with 1 Axes>"
      ]
     },
     "metadata": {
      "needs_background": "light"
     },
     "output_type": "display_data"
    }
   ],
   "source": [
    "#plot of family relationship rated 1-5 (5 as best)vs G3 (final grade)\n",
    "sns.violinplot(data = df, x = 'famrel', y = 'G3')"
   ]
  },
  {
   "cell_type": "markdown",
   "id": "af8b94aa-575e-4396-af96-a8e38d7b0583",
   "metadata": {},
   "source": [
    "I hypothesized that consumption of alcohol would negatively affect grades. It seems that there is a little bit of correlation. In particular, higher alcohol consumption leads to difficulty in obtaining the highest grades."
   ]
  },
  {
   "cell_type": "code",
   "execution_count": 14,
   "id": "7fc1d11f-ccd4-43c3-8584-fbb46f1e852c",
   "metadata": {},
   "outputs": [
    {
     "data": {
      "text/plain": [
       "<AxesSubplot:xlabel='Dalc', ylabel='G3'>"
      ]
     },
     "execution_count": 14,
     "metadata": {},
     "output_type": "execute_result"
    },
    {
     "data": {
      "image/png": "[encoded data removed]",
      "text/plain": [
       "<Figure size 432x288 with 1 Axes>"
      ]
     },
     "metadata": {
      "needs_background": "light"
     },
     "output_type": "display_data"
    }
   ],
   "source": [
    "#plot of workday alcohol consumption vs G3 (final grade)\n",
    "#slight relationship of higher workday alcohol consumption being correlated with lower final grades\n",
    "sns.violinplot(data = df, x = 'Dalc', y = 'G3')"
   ]
  },
  {
   "cell_type": "markdown",
   "id": "e4eb87e9-b771-4b9d-bd91-fe65aca9efd7",
   "metadata": {},
   "source": [
    "I hypothesized that an excess of absences would lead to lower grades. While a very high number of absences seems to make obtaining the higher grades unlikely, otherwise, there does not seem to be an overall correlation between absences and final grades."
   ]
  },
  {
   "cell_type": "code",
   "execution_count": 15,
   "id": "3bf80272-f45a-4bef-802f-e4e594a2cd02",
   "metadata": {},
   "outputs": [
    {
     "data": {
      "text/plain": [
       "<AxesSubplot:xlabel='absences', ylabel='G3'>"
      ]
     },
     "execution_count": 15,
     "metadata": {},
     "output_type": "execute_result"
    },
    {
     "data": {
      "image/png": "[encoded data removed]",
      "text/plain": [
       "<Figure size 432x288 with 1 Axes>"
      ]
     },
     "metadata": {
      "needs_background": "light"
     },
     "output_type": "display_data"
    }
   ],
   "source": [
    "#plot of number of absences vs G3 (final grade)\n",
    "sns.violinplot(data = df, x = 'absences', y = 'G3')"
   ]
  },
  {
   "cell_type": "markdown",
   "id": "a09c77d3-f9bb-4e75-8f34-52879ba784bd",
   "metadata": {},
   "source": [
    "I hypothesized that higher consumption of alcohol would lead to more absences. It seems that very frequent consumption is correlated with more absences, but alcohol consumption does not take part in many of the high number of absences."
   ]
  },
  {
   "cell_type": "code",
   "execution_count": 16,
   "id": "b91253a4-3334-44bc-bf12-b74800f23cb6",
   "metadata": {},
   "outputs": [
    {
     "data": {
      "text/plain": [
       "<AxesSubplot:xlabel='Dalc', ylabel='absences'>"
      ]
     },
     "execution_count": 16,
     "metadata": {},
     "output_type": "execute_result"
    },
    {
     "data": {
      "image/png": "[encoded data removed]",
      "text/plain": [
       "<Figure size 432x288 with 1 Axes>"
      ]
     },
     "metadata": {
      "needs_background": "light"
     },
     "output_type": "display_data"
    }
   ],
   "source": [
    "#plot of workday alcohol consumption vs number of absences\n",
    "sns.violinplot(data = df, x = 'Dalc', y = 'absences')"
   ]
  },
  {
   "cell_type": "markdown",
   "id": "843c8e43-b5d5-42da-9957-905ff329cabb",
   "metadata": {},
   "source": [
    "Through exploring the data by comparing various variables fo find possible pointers that would accurately predict student performance, I was surprised to find much weaker correlations than expected for even the ones that seemed obvious, such as absences and failure, study time and final grade, or family relationship and final grade.\n",
    "\n",
    "Number of class failures and final grades indicated a significant relationship, and in my preliminary experimentation with the dataset, I conducted modeling using these features. However, the model was not the most effective, with high mean square error. I realized that class failure was not a suitable feature to use for modeling as the number of classes failed by students is small in general (most of the values in this feature were 0) and the values are discrete.\n",
    "\n",
    "With this in mind, I decided to pivot and take his advice in looking at using G1, G2, and G3 as my features to model. They were the only other variables among my data exploration I found to have strong correlations, and this was lucky as they were also the few variables that are continuous and more diverse in values, making them more suitable for modeling (meaning a higher chance of producing a model of higher accuracy).\n",
    "\n",
    "I decided on using G2 as a predictor of G3. G1 and G2 are both the most telling variables for G3, but predictive performance especially decreases when the second period grade, G2, is not known. Therefore, I want to see how accurate models just using G2 could be in predicting student performance."
   ]
  },
  {
   "cell_type": "markdown",
   "id": "4379b5a6-ac02-4e40-873f-f677592be368",
   "metadata": {},
   "source": [
    "## Modeling\n",
    "I decided to evaluate the effectiveness of prediction made by 4 different models: linear regression, k-nearest neighbors, decision trees, and random forest. In the original study, decision trees and random forests were found to be the best models. I would like to compare how other models like regression and classification ones perform in comparison."
   ]
  },
  {
   "cell_type": "code",
   "execution_count": 17,
   "id": "3999fab4-89ba-4166-af0c-83dcfb717b31",
   "metadata": {},
   "outputs": [],
   "source": [
    "#perform linear regression model to explore relationship\n",
    "#between G2 vs G3\n",
    "\n",
    "import sklearn.linear_model\n",
    "model = sklearn.linear_model.LinearRegression()"
   ]
  },
  {
   "cell_type": "code",
   "execution_count": 18,
   "id": "1504d301-b5ec-4960-87fb-b39cfc156069",
   "metadata": {},
   "outputs": [],
   "source": [
    "import sklearn.model_selection"
   ]
  },
  {
   "cell_type": "code",
   "execution_count": 19,
   "id": "cfb34c58-0b9f-4cf6-bda3-c661c6dcd73d",
   "metadata": {},
   "outputs": [],
   "source": [
    "#set x as the values of G2\n",
    "x = df[['G2']]"
   ]
  },
  {
   "cell_type": "code",
   "execution_count": 20,
   "id": "b021bd4f-1e12-404b-813c-f43b4e2bab56",
   "metadata": {},
   "outputs": [
    {
     "data": {
      "text/html": [
       "<div>\n",
       "<style scoped>\n",
       "    .dataframe tbody tr th:only-of-type {\n",
       "        vertical-align: middle;\n",
       "    }\n",
       "\n",
       "    .dataframe tbody tr th {\n",
       "        vertical-align: top;\n",
       "    }\n",
       "\n",
       "    .dataframe thead th {\n",
       "        text-align: right;\n",
       "    }\n",
       "</style>\n",
       "<table border=\"1\" class=\"dataframe\">\n",
       "  <thead>\n",
       "    <tr style=\"text-align: right;\">\n",
       "      <th></th>\n",
       "      <th>G2</th>\n",
       "    </tr>\n",
       "  </thead>\n",
       "  <tbody>\n",
       "    <tr>\n",
       "      <th>0</th>\n",
       "      <td>6</td>\n",
       "    </tr>\n",
       "    <tr>\n",
       "      <th>1</th>\n",
       "      <td>5</td>\n",
       "    </tr>\n",
       "    <tr>\n",
       "      <th>2</th>\n",
       "      <td>8</td>\n",
       "    </tr>\n",
       "    <tr>\n",
       "      <th>3</th>\n",
       "      <td>14</td>\n",
       "    </tr>\n",
       "    <tr>\n",
       "      <th>4</th>\n",
       "      <td>10</td>\n",
       "    </tr>\n",
       "    <tr>\n",
       "      <th>...</th>\n",
       "      <td>...</td>\n",
       "    </tr>\n",
       "    <tr>\n",
       "      <th>390</th>\n",
       "      <td>9</td>\n",
       "    </tr>\n",
       "    <tr>\n",
       "      <th>391</th>\n",
       "      <td>16</td>\n",
       "    </tr>\n",
       "    <tr>\n",
       "      <th>392</th>\n",
       "      <td>8</td>\n",
       "    </tr>\n",
       "    <tr>\n",
       "      <th>393</th>\n",
       "      <td>12</td>\n",
       "    </tr>\n",
       "    <tr>\n",
       "      <th>394</th>\n",
       "      <td>9</td>\n",
       "    </tr>\n",
       "  </tbody>\n",
       "</table>\n",
       "<p>395 rows × 1 columns</p>\n",
       "</div>"
      ],
      "text/plain": [
       "     G2\n",
       "0     6\n",
       "1     5\n",
       "2     8\n",
       "3    14\n",
       "4    10\n",
       "..   ..\n",
       "390   9\n",
       "391  16\n",
       "392   8\n",
       "393  12\n",
       "394   9\n",
       "\n",
       "[395 rows x 1 columns]"
      ]
     },
     "execution_count": 20,
     "metadata": {},
     "output_type": "execute_result"
    }
   ],
   "source": [
    "#check x content\n",
    "x"
   ]
  },
  {
   "cell_type": "code",
   "execution_count": 21,
   "id": "b8fec004-e9c8-4269-a8cf-f88e2501cef2",
   "metadata": {},
   "outputs": [],
   "source": [
    "#set y, the target variable, as the values of G3\n",
    "y = df['G3']"
   ]
  },
  {
   "cell_type": "code",
   "execution_count": 22,
   "id": "cc83b8b8-811a-4737-8b08-eff0fb578d4f",
   "metadata": {},
   "outputs": [],
   "source": [
    "#split the model into training and testing sets\n",
    "x_train, x_test, y_train, y_test = sklearn.model_selection.train_test_split(\n",
    "    x, y, test_size=0.2, random_state=42)"
   ]
  },
  {
   "cell_type": "code",
   "execution_count": 23,
   "id": "cea97ec9-5adb-4b96-a3e5-430591c9a6fc",
   "metadata": {},
   "outputs": [
    {
     "data": {
      "text/plain": [
       "(316, 1)"
      ]
     },
     "execution_count": 23,
     "metadata": {},
     "output_type": "execute_result"
    }
   ],
   "source": [
    "#check that the shape of the variables is appropriate for modeling\n",
    "x_train.shape"
   ]
  },
  {
   "cell_type": "code",
   "execution_count": 24,
   "id": "fbfb99a4-371c-4fb8-b48e-4b1140d17620",
   "metadata": {},
   "outputs": [],
   "source": [
    "x_train = x_train.values"
   ]
  },
  {
   "cell_type": "code",
   "execution_count": 25,
   "id": "7e5831b8-6f34-4f60-9de3-d3bed2146bd6",
   "metadata": {},
   "outputs": [
    {
     "data": {
      "text/plain": [
       "(79, 1)"
      ]
     },
     "execution_count": 25,
     "metadata": {},
     "output_type": "execute_result"
    }
   ],
   "source": [
    "x_test.shape"
   ]
  },
  {
   "cell_type": "code",
   "execution_count": 26,
   "id": "8a22a427-a0bb-414b-a695-7900f47fd11d",
   "metadata": {},
   "outputs": [],
   "source": [
    "x_test = x_test.values"
   ]
  },
  {
   "cell_type": "markdown",
   "id": "d61bc656-502f-46e2-bb86-719483b3ee44",
   "metadata": {},
   "source": [
    "### Linear Regression"
   ]
  },
  {
   "cell_type": "code",
   "execution_count": 27,
   "id": "03c7c977-8fc3-4a3c-82c4-5c10928d0acd",
   "metadata": {},
   "outputs": [
    {
     "data": {
      "text/plain": [
       "LinearRegression()"
      ]
     },
     "execution_count": 27,
     "metadata": {},
     "output_type": "execute_result"
    }
   ],
   "source": [
    "model.fit(x_train,y_train)"
   ]
  },
  {
   "cell_type": "code",
   "execution_count": 28,
   "id": "fa792230-cc18-468b-ae1c-aad5d540b74f",
   "metadata": {},
   "outputs": [],
   "source": [
    "y_pred = model.predict(x_test)"
   ]
  },
  {
   "cell_type": "code",
   "execution_count": 29,
   "id": "5dc110be-8d2c-4f93-a9d3-dc83c5ed9fba",
   "metadata": {},
   "outputs": [
    {
     "data": {
      "text/plain": [
       "<matplotlib.collections.PathCollection at 0x7f16e5a32bb0>"
      ]
     },
     "execution_count": 29,
     "metadata": {},
     "output_type": "execute_result"
    },
    {
     "data": {
      "image/png": "[encoded data removed]",
      "text/plain": [
       "<Figure size 432x288 with 1 Axes>"
      ]
     },
     "metadata": {
      "needs_background": "light"
     },
     "output_type": "display_data"
    }
   ],
   "source": [
    "#plot the predicted target values (blue) and the actual target values (orange)\n",
    "plt.scatter(x_test,y_pred)\n",
    "plt.scatter(x_test, y_test)"
   ]
  },
  {
   "cell_type": "markdown",
   "id": "3928d9a1-75e9-4349-b40e-d41889dfdc02",
   "metadata": {},
   "source": [
    "The shape of the predicted values is almost identically lines up with the actual values. Even the outlier is very close."
   ]
  },
  {
   "cell_type": "code",
   "execution_count": 30,
   "id": "fd78864a-9744-4c90-b8da-c4b4c8757ff3",
   "metadata": {},
   "outputs": [
    {
     "name": "stdout",
     "output_type": "stream",
     "text": [
      "MSE =  4.216183766505532\n",
      "R^2 =  0.794383123755501\n"
     ]
    }
   ],
   "source": [
    "#evaluate quality of model\n",
    "from sklearn.metrics import mean_squared_error, r2_score\n",
    "print('MSE = ', mean_squared_error(y_test, model.predict(x_test)))\n",
    "print('R^2 = ', r2_score(y_test, model.predict(x_test)))"
   ]
  },
  {
   "cell_type": "markdown",
   "id": "40386c3f-3b24-40ff-ba90-6de2f9e36de1",
   "metadata": {},
   "source": [
    "### K-Nearest Neighbors"
   ]
  },
  {
   "cell_type": "code",
   "execution_count": 31,
   "id": "5bd865c8-1b01-42e4-85ea-27e0d9e0a3ff",
   "metadata": {},
   "outputs": [],
   "source": [
    "#perform cross-validated k-neighbor classifier model\n",
    "import sklearn.neighbors"
   ]
  },
  {
   "cell_type": "code",
   "execution_count": 32,
   "id": "47f8e43e-7ad9-438a-8229-a6e97c6ea43a",
   "metadata": {},
   "outputs": [],
   "source": [
    "from sklearn.model_selection import cross_val_score"
   ]
  },
  {
   "cell_type": "code",
   "execution_count": 55,
   "id": "0db19752-2184-4632-93f7-583e683e2010",
   "metadata": {},
   "outputs": [
    {
     "name": "stdout",
     "output_type": "stream",
     "text": [
      "Cross validated MSE for 1 = 2.388721723670929\n",
      "Cross validated MSE for 2 = 1.9546405557315336\n",
      "Cross validated MSE for 3 = 2.056124131910143\n",
      "Cross validated MSE for 4 = 2.082348807152962\n",
      "Cross validated MSE for 5 = 1.9756893397537947\n",
      "Cross validated MSE for 6 = 1.9151094437909948\n",
      "Cross validated MSE for 7 = 1.8759023239153705\n",
      "Cross validated MSE for 8 = 1.8840122340546528\n",
      "Cross validated MSE for 9 = 1.8659880620378515\n",
      "Cross validated MSE for 10 = 1.875884700868588\n",
      "Cross validated MSE for 11 = 1.8607157015249398\n",
      "Cross validated MSE for 12 = 1.8525393455701713\n",
      "Cross validated MSE for 13 = 1.844469057004596\n",
      "Cross validated MSE for 14 = 1.8512525952378163\n",
      "Cross validated MSE for 15 = 1.865202909089159\n",
      "Cross validated MSE for 16 = 1.8791004116244996\n",
      "Cross validated MSE for 17 = 1.8838004496305962\n",
      "Cross validated MSE for 18 = 1.8797046115204066\n",
      "Cross validated MSE for 19 = 1.8806942781546545\n",
      "Cross validated MSE for 20 = 1.8913786033289948\n",
      "Cross validated MSE for 21 = 1.892072104327814\n",
      "Cross validated MSE for 22 = 1.89898582132797\n",
      "Cross validated MSE for 23 = 1.9076934079433916\n",
      "Cross validated MSE for 24 = 1.914263149641931\n",
      "Cross validated MSE for 25 = 1.9186082010947103\n",
      "Cross validated MSE for 26 = 1.9304673249627027\n",
      "Cross validated MSE for 27 = 1.9387533261312755\n",
      "Cross validated MSE for 28 = 1.9497520700722384\n",
      "Cross validated MSE for 29 = 1.9472503941762547\n",
      "Cross validated MSE for 30 = 1.9558079120147045\n"
     ]
    }
   ],
   "source": [
    "#calculate MSE for k neighbors between 1 to 30\n",
    "#with 20 folds for cross-validation\n",
    "k_range20 = range(1, 31)\n",
    "k_scores20 = []\n",
    "for k in k_range20:\n",
    "    knn = sklearn.neighbors.KNeighborsRegressor(n_neighbors=k)\n",
    "    loss = cross_val_score(knn,\n",
    "                           x_train,\n",
    "                           y_train, \n",
    "                           cv=20, \n",
    "                           scoring='neg_mean_squared_error')\n",
    "    k_score20 = np.sqrt(-loss).mean()\n",
    "    k_scores20.append(np.sqrt(-loss).mean())\n",
    "    print('Cross validated MSE for ' + str(k) + ' = ' + str(k_score20))"
   ]
  },
  {
   "cell_type": "code",
   "execution_count": 54,
   "id": "7e53430e-50af-4ee2-8bb4-08b6306301ea",
   "metadata": {},
   "outputs": [
    {
     "name": "stdout",
     "output_type": "stream",
     "text": [
      "Cross validated MSE for 1 = 2.0929555691422954\n",
      "Cross validated MSE for 2 = 1.7697629646899622\n",
      "Cross validated MSE for 3 = 1.8223306477256438\n",
      "Cross validated MSE for 4 = 1.8395311898842381\n",
      "Cross validated MSE for 5 = 1.7841087721795166\n",
      "Cross validated MSE for 6 = 1.706103268015929\n",
      "Cross validated MSE for 7 = 1.6506766873930527\n",
      "Cross validated MSE for 8 = 1.6251446136295506\n",
      "Cross validated MSE for 9 = 1.6260891194399572\n",
      "Cross validated MSE for 10 = 1.6456385640795048\n",
      "Cross validated MSE for 11 = 1.6354145918027378\n",
      "Cross validated MSE for 12 = 1.644571887685787\n",
      "Cross validated MSE for 13 = 1.6303865462116605\n",
      "Cross validated MSE for 14 = 1.6376903707475554\n",
      "Cross validated MSE for 15 = 1.6603280897104122\n",
      "Cross validated MSE for 16 = 1.6700642884296584\n",
      "Cross validated MSE for 17 = 1.675728910765569\n",
      "Cross validated MSE for 18 = 1.6756519514633836\n",
      "Cross validated MSE for 19 = 1.6790865066610194\n",
      "Cross validated MSE for 20 = 1.695793398556856\n",
      "Cross validated MSE for 21 = 1.6971381590133057\n",
      "Cross validated MSE for 22 = 1.7170814621954846\n",
      "Cross validated MSE for 23 = 1.7341601765137193\n",
      "Cross validated MSE for 24 = 1.748246839048369\n",
      "Cross validated MSE for 25 = 1.761569740026691\n",
      "Cross validated MSE for 26 = 1.7614841115842892\n",
      "Cross validated MSE for 27 = 1.772423300283498\n",
      "Cross validated MSE for 28 = 1.780928499171598\n",
      "Cross validated MSE for 29 = 1.799018238381336\n",
      "Cross validated MSE for 30 = 1.8078658163196162\n"
     ]
    }
   ],
   "source": [
    "#calculate MSE for k neighbors between 1 to 30\n",
    "#with 50 folds for cross-validation\n",
    "k_range50 = range(1, 31)\n",
    "k_scores50 = []\n",
    "for k in k_range50:\n",
    "    knn = sklearn.neighbors.KNeighborsRegressor(n_neighbors=k)\n",
    "    loss = cross_val_score(knn,\n",
    "                           x_train,\n",
    "                           y_train, \n",
    "                           cv=50, \n",
    "                           scoring='neg_mean_squared_error')\n",
    "    k_score50 = np.sqrt(-loss).mean()\n",
    "    k_scores50.append(np.sqrt(-loss).mean())\n",
    "    print('Cross validated MSE for ' + str(k) + ' = ' + str(k_score50))"
   ]
  },
  {
   "cell_type": "markdown",
   "id": "79c358c8-42d5-4b26-8007-8bec13b04a25",
   "metadata": {},
   "source": [
    "The cross-validated MSE was lower with 50 passes compared to 20 passes. As such, the depth score hyperparameter was chosen from the one that gave the lowest MSE among 50 passes."
   ]
  },
  {
   "cell_type": "code",
   "execution_count": 35,
   "id": "e9a7e9ee-61e8-40d2-af23-a303f0cc66c4",
   "metadata": {},
   "outputs": [
    {
     "data": {
      "text/plain": [
       "1.6251446136295506"
      ]
     },
     "execution_count": 35,
     "metadata": {},
     "output_type": "execute_result"
    }
   ],
   "source": [
    "#determine the lowest MSE\n",
    "min(k_scores50)"
   ]
  },
  {
   "cell_type": "code",
   "execution_count": 36,
   "id": "b47cb922-c0e1-4fe3-a8cd-06d6258b7bd9",
   "metadata": {},
   "outputs": [],
   "source": [
    "#set the optimized number of neighbors, 8, and fit the model onto training data\n",
    "kNeighborModel = sklearn.neighbors.KNeighborsRegressor(n_neighbors=8)\n",
    "kNeighborModel.fit(x_train, y_train)\n",
    "\n",
    "#predict y using testing x test group\n",
    "y_kNeighborPred = kNeighborModel.predict(x_test)"
   ]
  },
  {
   "cell_type": "code",
   "execution_count": 37,
   "id": "1f50a233-8dcd-4f32-986f-8379932ca248",
   "metadata": {},
   "outputs": [
    {
     "data": {
      "text/plain": [
       "<matplotlib.collections.PathCollection at 0x7f16e5727580>"
      ]
     },
     "execution_count": 37,
     "metadata": {},
     "output_type": "execute_result"
    },
    {
     "data": {
      "image/png": "[encoded data removed]",
      "text/plain": [
       "<Figure size 432x288 with 1 Axes>"
      ]
     },
     "metadata": {
      "needs_background": "light"
     },
     "output_type": "display_data"
    }
   ],
   "source": [
    "#plot the predicted target values (blue) and the actual target values (orange)\n",
    "plt.scatter(x_test,y_kNeighborPred)\n",
    "plt.scatter(x_test, y_test)"
   ]
  },
  {
   "cell_type": "markdown",
   "id": "37a8ebd1-b018-4114-8318-628bc9dad517",
   "metadata": {},
   "source": [
    "The general shape of the predicted values is again similar to the shape of the actual values, except for the outliers."
   ]
  },
  {
   "cell_type": "code",
   "execution_count": 38,
   "id": "b58a1025-8f51-4432-a1b3-f67366dafe4c",
   "metadata": {},
   "outputs": [
    {
     "name": "stdout",
     "output_type": "stream",
     "text": [
      "MSE_knn =  5.223101265822785\n"
     ]
    }
   ],
   "source": [
    "#evaluate error\n",
    "print('MSE_knn = ', mean_squared_error(y_test, y_kNeighborPred))"
   ]
  },
  {
   "cell_type": "markdown",
   "id": "1a362ad7-0590-4d2d-9759-e5da356de164",
   "metadata": {},
   "source": [
    "### Decision Tree"
   ]
  },
  {
   "cell_type": "code",
   "execution_count": 39,
   "id": "071161a2-4d77-457d-baf9-69cffb067d44",
   "metadata": {},
   "outputs": [],
   "source": [
    "import sklearn.tree"
   ]
  },
  {
   "cell_type": "code",
   "execution_count": 40,
   "id": "a7ace35b-89ed-420f-9601-90c7716d5ba9",
   "metadata": {},
   "outputs": [
    {
     "name": "stdout",
     "output_type": "stream",
     "text": [
      "Cross validated MSE for 1 = 3.223591539837929\n",
      "Cross validated MSE for 2 = 2.4542021150999096\n",
      "Cross validated MSE for 3 = 2.097735169503196\n",
      "Cross validated MSE for 4 = 1.8383382157760075\n",
      "Cross validated MSE for 5 = 1.8233872327873324\n",
      "Cross validated MSE for 6 = 1.8233872327873324\n",
      "Cross validated MSE for 7 = 1.8233872327873324\n",
      "Cross validated MSE for 8 = 1.8233872327873324\n",
      "Cross validated MSE for 9 = 1.8233872327873324\n",
      "Cross validated MSE for 10 = 1.8233872327873324\n",
      "Cross validated MSE for 11 = 1.8233872327873324\n",
      "Cross validated MSE for 12 = 1.8233872327873324\n",
      "Cross validated MSE for 13 = 1.8233872327873324\n",
      "Cross validated MSE for 14 = 1.8233872327873324\n",
      "Cross validated MSE for 15 = 1.8233872327873324\n",
      "Cross validated MSE for 16 = 1.8233872327873324\n",
      "Cross validated MSE for 17 = 1.8233872327873324\n",
      "Cross validated MSE for 18 = 1.8233872327873324\n",
      "Cross validated MSE for 19 = 1.8233872327873324\n",
      "Cross validated MSE for 20 = 1.8233872327873324\n"
     ]
    }
   ],
   "source": [
    "#calculate MSE for depths between 1 to 20, and cross-validation of 20 folds\n",
    "DTdepth_range20 = range(1, 21)\n",
    "DTdepth_scores20 = []\n",
    "for depth in DTdepth_range20:\n",
    "    depthN = sklearn.tree.DecisionTreeRegressor(max_depth=depth)\n",
    "    loss = cross_val_score(depthN,\n",
    "                           x_train,\n",
    "                           y_train, \n",
    "                           cv=20, \n",
    "                           scoring='neg_mean_squared_error')\n",
    "    DTdepth_score20 = np.sqrt(-loss).mean()\n",
    "    DTdepth_scores20.append(np.sqrt(-loss).mean())\n",
    "    print('Cross validated MSE for ' + str(depth) + ' = ' + str(DTdepth_score20))"
   ]
  },
  {
   "cell_type": "code",
   "execution_count": 41,
   "id": "19cab142-d870-4e93-9b3c-e301e691ccb4",
   "metadata": {},
   "outputs": [
    {
     "name": "stdout",
     "output_type": "stream",
     "text": [
      "Cross validated MSE for 1 = 3.154611613687967\n",
      "Cross validated MSE for 2 = 2.3202277046365514\n",
      "Cross validated MSE for 3 = 1.8957269054174903\n",
      "Cross validated MSE for 4 = 1.6178783756611153\n",
      "Cross validated MSE for 5 = 1.6090993184599711\n",
      "Cross validated MSE for 6 = 1.6090993184599711\n",
      "Cross validated MSE for 7 = 1.6090993184599711\n",
      "Cross validated MSE for 8 = 1.6090993184599711\n",
      "Cross validated MSE for 9 = 1.6090993184599711\n",
      "Cross validated MSE for 10 = 1.6090993184599711\n",
      "Cross validated MSE for 11 = 1.6090993184599711\n",
      "Cross validated MSE for 12 = 1.6090993184599711\n",
      "Cross validated MSE for 13 = 1.6090993184599711\n",
      "Cross validated MSE for 14 = 1.6090993184599711\n",
      "Cross validated MSE for 15 = 1.6090993184599711\n",
      "Cross validated MSE for 16 = 1.6090993184599711\n",
      "Cross validated MSE for 17 = 1.6090993184599711\n",
      "Cross validated MSE for 18 = 1.6090993184599711\n",
      "Cross validated MSE for 19 = 1.6090993184599711\n",
      "Cross validated MSE for 20 = 1.6090993184599711\n"
     ]
    }
   ],
   "source": [
    "#calculate MSE for depths between 1 to 20\n",
    "#with 50 folds for cross-validation\n",
    "DTdepth_range50 = range(1, 21)\n",
    "DTdepth_scores50 = []\n",
    "for depth in DTdepth_range50:\n",
    "    depthN = sklearn.tree.DecisionTreeRegressor(max_depth=depth)\n",
    "    loss = cross_val_score(depthN,\n",
    "                           x_train,\n",
    "                           y_train, \n",
    "                           cv=50, \n",
    "                           scoring='neg_mean_squared_error')\n",
    "    DTdepth_score50 = np.sqrt(-loss).mean()\n",
    "    DTdepth_scores50.append(np.sqrt(-loss).mean())\n",
    "    print('Cross validated MSE for ' + str(depth) + ' = ' + str(DTdepth_score50))"
   ]
  },
  {
   "cell_type": "markdown",
   "id": "0e9cd439-67c9-4eea-bab0-2041ec932ee2",
   "metadata": {},
   "source": [
    "The cross-validated MSE was the same regardless of the number of passes for cross validation, as the lowest MSE was both at depth scores of 5."
   ]
  },
  {
   "cell_type": "code",
   "execution_count": 45,
   "id": "2eaabd93-d4dc-46ac-a26e-1cc0b94e9f0b",
   "metadata": {},
   "outputs": [
    {
     "data": {
      "text/plain": [
       "1.6090993184599711"
      ]
     },
     "execution_count": 45,
     "metadata": {},
     "output_type": "execute_result"
    }
   ],
   "source": [
    "min(DTdepth_scores50)"
   ]
  },
  {
   "cell_type": "code",
   "execution_count": 46,
   "id": "992905a0-f72c-486d-8ee5-02f3c25e0e39",
   "metadata": {},
   "outputs": [],
   "source": [
    "decisionTree5Model = sklearn.tree.DecisionTreeRegressor(max_depth=5)\n",
    "\n",
    "x_train, x_test, y_train, y_test = sklearn.model_selection.train_test_split(\n",
    "    x, y, test_size=0.2, random_state=42)\n",
    "\n",
    "decisionTree5Model.fit(x_train, y_train)\n",
    "y_decisionTree5Pred = decisionTree5Model.predict(x_test)"
   ]
  },
  {
   "cell_type": "code",
   "execution_count": 47,
   "id": "7c0450c4-fae0-45b6-8edc-830cc600496d",
   "metadata": {},
   "outputs": [
    {
     "data": {
      "text/plain": [
       "<matplotlib.collections.PathCollection at 0x7f16e549f430>"
      ]
     },
     "execution_count": 47,
     "metadata": {},
     "output_type": "execute_result"
    },
    {
     "data": {
      "image/png": "[encoded data removed]",
      "text/plain": [
       "<Figure size 432x288 with 1 Axes>"
      ]
     },
     "metadata": {
      "needs_background": "light"
     },
     "output_type": "display_data"
    }
   ],
   "source": [
    "#plot the predicted target values (blue) and the actual target values (orange)\n",
    "plt.scatter(x_test,y_decisionTree5Pred)\n",
    "plt.scatter(x_test, y_test)"
   ]
  },
  {
   "cell_type": "markdown",
   "id": "e055113b-39ef-422a-9c5f-2257894fe755",
   "metadata": {},
   "source": [
    "As with the kNN graph, the general shape of the predicted values is again similar to the shape of the actual values, while the outlier is a bit amiss."
   ]
  },
  {
   "cell_type": "code",
   "execution_count": 48,
   "id": "8c6f3ac6-ed9b-4922-8a2d-ddc8d0c44030",
   "metadata": {},
   "outputs": [
    {
     "name": "stdout",
     "output_type": "stream",
     "text": [
      "MSE_depth5 =  4.774646223179826\n"
     ]
    }
   ],
   "source": [
    "print('MSE_depth5 = ', mean_squared_error(y_test, y_decisionTree5Pred))"
   ]
  },
  {
   "cell_type": "markdown",
   "id": "43e16764-c210-4371-bd72-02aeab3857b9",
   "metadata": {},
   "source": [
    "### Random Forest"
   ]
  },
  {
   "cell_type": "code",
   "execution_count": 49,
   "id": "6de4d234-14bd-43ba-aa3b-5b92083bd9bf",
   "metadata": {},
   "outputs": [],
   "source": [
    "from sklearn.ensemble import RandomForestRegressor"
   ]
  },
  {
   "cell_type": "code",
   "execution_count": 59,
   "id": "ba1b2644-5467-4ebb-8572-cef37006d913",
   "metadata": {},
   "outputs": [
    {
     "name": "stdout",
     "output_type": "stream",
     "text": [
      "Cross validated MSE for 1 = 2.9089760613048714\n",
      "Cross validated MSE for 2 = 2.028784167073122\n",
      "Cross validated MSE for 3 = 1.8519415052390062\n",
      "Cross validated MSE for 4 = 1.8253481089628956\n",
      "Cross validated MSE for 5 = 1.8304264906130079\n",
      "Cross validated MSE for 6 = 1.8131351499972523\n",
      "Cross validated MSE for 7 = 1.8196021241890032\n",
      "Cross validated MSE for 8 = 1.8220916509982046\n",
      "Cross validated MSE for 9 = 1.8282312194799886\n",
      "Cross validated MSE for 10 = 1.8228265980064162\n",
      "Cross validated MSE for 11 = 1.825647980299418\n",
      "Cross validated MSE for 12 = 1.829935359996743\n",
      "Cross validated MSE for 13 = 1.825758581579839\n",
      "Cross validated MSE for 14 = 1.8236115946256835\n",
      "Cross validated MSE for 15 = 1.8244547313482364\n",
      "Cross validated MSE for 16 = 1.824056115657162\n",
      "Cross validated MSE for 17 = 1.8219579790818272\n",
      "Cross validated MSE for 18 = 1.8300159750191813\n",
      "Cross validated MSE for 19 = 1.8295872034975171\n",
      "Cross validated MSE for 20 = 1.8189986015702477\n"
     ]
    }
   ],
   "source": [
    "#calculate MSE for depths between 1 to 20\n",
    "#with 20 folds for cross-validation\n",
    "RFdepth_range20 = range(1, 21)\n",
    "RFdepth_scores20 = []\n",
    "for depth in RFdepth_range20:\n",
    "    depthN = sklearn.ensemble.RandomForestRegressor(max_depth=depth)\n",
    "    loss = cross_val_score(depthN,\n",
    "                           x_train,\n",
    "                           y_train, \n",
    "                           cv=20, \n",
    "                           scoring='neg_mean_squared_error')\n",
    "    RFdepth_score20 = np.sqrt(-loss).mean()\n",
    "    RFdepth_scores20.append(np.sqrt(-loss).mean())\n",
    "    print('Cross validated MSE for ' + str(depth) + ' = ' + str(RFdepth_score20))"
   ]
  },
  {
   "cell_type": "code",
   "execution_count": 58,
   "id": "ba0e06fd-db24-4005-b5d6-15419d91d4f0",
   "metadata": {},
   "outputs": [
    {
     "name": "stdout",
     "output_type": "stream",
     "text": [
      "Cross validated MSE for 1 = 2.8313660329286883\n",
      "Cross validated MSE for 2 = 1.87892587427122\n",
      "Cross validated MSE for 3 = 1.6386543644331053\n",
      "Cross validated MSE for 4 = 1.6093302430162584\n",
      "Cross validated MSE for 5 = 1.6112249704460597\n",
      "Cross validated MSE for 6 = 1.6094059911542409\n",
      "Cross validated MSE for 7 = 1.6135147085281012\n",
      "Cross validated MSE for 8 = 1.6096747506862792\n",
      "Cross validated MSE for 9 = 1.6116902222056857\n",
      "Cross validated MSE for 10 = 1.618218725493165\n",
      "Cross validated MSE for 11 = 1.6221647050021475\n",
      "Cross validated MSE for 12 = 1.609256935473626\n",
      "Cross validated MSE for 13 = 1.6171086069416152\n",
      "Cross validated MSE for 14 = 1.6125531428363877\n",
      "Cross validated MSE for 15 = 1.6082437885443557\n",
      "Cross validated MSE for 16 = 1.615015201370893\n",
      "Cross validated MSE for 17 = 1.6099675744442112\n",
      "Cross validated MSE for 18 = 1.610406635047118\n",
      "Cross validated MSE for 19 = 1.6110118725588576\n",
      "Cross validated MSE for 20 = 1.6104289468597073\n"
     ]
    }
   ],
   "source": [
    "#calculate MSE for depths between 1 to 20\n",
    "#with 50 folds for cross-validation\n",
    "RFdepth_range50 = range(1, 21)\n",
    "RFdepth_scores50 = []\n",
    "for depth in RFdepth_range50:\n",
    "    depthN = sklearn.ensemble.RandomForestRegressor(max_depth=depth)\n",
    "    loss = cross_val_score(depthN,\n",
    "                           x_train,\n",
    "                           y_train, \n",
    "                           cv=50, \n",
    "                           scoring='neg_mean_squared_error')\n",
    "    RFdepth_score50 = np.sqrt(-loss).mean()\n",
    "    RFdepth_scores50.append(np.sqrt(-loss).mean())\n",
    "    print('Cross validated MSE for ' + str(depth) + ' = ' + str(RFdepth_score50))"
   ]
  },
  {
   "cell_type": "markdown",
   "id": "428ac03d-0f9d-4332-a2a6-a148d6198a13",
   "metadata": {},
   "source": [
    "The cross-validated MSE was lower with 50 passes compared to 20 passes. As such, the depth score hyperparameter was chosen from the one that gave the lowest MSE among 50 passes."
   ]
  },
  {
   "cell_type": "code",
   "execution_count": 60,
   "id": "8d5d4215-69e8-4371-8934-539688716ef1",
   "metadata": {},
   "outputs": [
    {
     "data": {
      "text/plain": [
       "1.6082437885443557"
      ]
     },
     "execution_count": 60,
     "metadata": {},
     "output_type": "execute_result"
    }
   ],
   "source": [
    "min(RFdepth_scores50)"
   ]
  },
  {
   "cell_type": "code",
   "execution_count": 62,
   "id": "e222f840-2132-45bf-90c8-0b8ac736f90c",
   "metadata": {},
   "outputs": [],
   "source": [
    "randomForest15Model = sklearn.ensemble.RandomForestRegressor(max_depth=15)\n",
    "\n",
    "x_train, x_test, y_train, y_test = sklearn.model_selection.train_test_split(\n",
    "    x, y, test_size=0.2, random_state=42)\n",
    "\n",
    "randomForest15Model.fit(x_train, y_train)\n",
    "y_randomForest15Pred = randomForest15Model.predict(x_test)"
   ]
  },
  {
   "cell_type": "code",
   "execution_count": 63,
   "id": "5bc81eb8-8bdd-4a78-a34e-c44376ca2054",
   "metadata": {},
   "outputs": [
    {
     "data": {
      "text/plain": [
       "<matplotlib.collections.PathCollection at 0x7f16e531bf10>"
      ]
     },
     "execution_count": 63,
     "metadata": {},
     "output_type": "execute_result"
    },
    {
     "data": {
      "image/png": "[encoded data removed]",
      "text/plain": [
       "<Figure size 432x288 with 1 Axes>"
      ]
     },
     "metadata": {
      "needs_background": "light"
     },
     "output_type": "display_data"
    }
   ],
   "source": [
    "#plot the predicted target values (blue) and the actual target values (orange)\n",
    "plt.scatter(x_test,y_randomForest15Pred)\n",
    "plt.scatter(x_test, y_test)"
   ]
  },
  {
   "cell_type": "markdown",
   "id": "718db4a8-6315-4652-b097-7d89e1d1b3bc",
   "metadata": {},
   "source": [
    "The general shape of the predicted values is almost exactly in line with the actual values, similar to the linear regression model. However, the outlier prediction is worse than the linear regression's prediction."
   ]
  },
  {
   "cell_type": "code",
   "execution_count": 64,
   "id": "be5a2875-3016-4526-8dde-9d57ee62bf36",
   "metadata": {},
   "outputs": [
    {
     "name": "stdout",
     "output_type": "stream",
     "text": [
      "MSE_depth6 =  4.734490058045499\n"
     ]
    }
   ],
   "source": [
    "print('MSE_depth6 = ', mean_squared_error(y_test, y_randomForest15Pred))"
   ]
  },
  {
   "cell_type": "markdown",
   "id": "764ebc0f-d901-4b18-8f54-9cd998a9828f",
   "metadata": {},
   "source": [
    "Linear Regression MSE   =  4.216183766505532<br>\n",
    "K-Nearest Neighbor MSE  =  5.279887482419128<br>\n",
    "Decision Tree MSE       =  4.774646223179826<br>\n",
    "Random Forest MSE       =  4.734490058045499"
   ]
  },
  {
   "cell_type": "markdown",
   "id": "1c605270-600a-4e9d-9410-2cf812e3bc10",
   "metadata": {},
   "source": [
    "Very unexpectedly, the linear regression model had the highest accuracy in predicting students' final grades based off of G2 grades, unlike th original study that found decision trees and random forest to be the best models. K-nearest neighbor being the worst is expected because it is a classification model, which tends to do better with discrete inputs. Thus, it cannot be assumed that students who are close together in the feature space would necessarily be similar school performance. The accuracy of the linear regression model indicates that the relationship between second period and final grades is linear."
   ]
  },
  {
   "cell_type": "markdown",
   "id": "ada33284-b639-4f54-9bf9-84cb43ec0078",
   "metadata": {},
   "source": [
    "### Comparison to Prior Work\n",
    "\n",
    "Aside from the original research, there has been two other studies conducted using the same dataset investigating the same problem of how to create the best machine learning model to predict student grades.\n",
    "\n",
    "In terms of technique, the other studies were more diverse and much more sophisticated than what I was capable of emulating. \n",
    "All studies faced similar difficulty in finding correlation between variables of the dataset, even among the most expected ones like study time or absence in relation to grades. One of the studies cited that through their exploration of the dataset, they found that the majority of the students barely get sufficient evaluations, and one-third of the students fail to get a sufficient evaluation at the end of the year. The presence of a considerable number of empty values, presumably from students dropping out/transferring or failing to complete the complete survey makes it difficult to decide when to consider it as noise and to remove it, or when to include it as input. Generally, the other studies did not remove any values.\n",
    "\n",
    "Standarization of the variables was used for to align values better for some models. One study preprocessed the data for modeling by breaking them down and recatorizing into 3 sets, one using an Erasmus1 grade conversion system, one using a binary grade system (success vs failure), and one using grades ranging from 1 to 20. For another study's classification model, ANOVA was used for variance analysis first, comparing each feature with the target variable to see if there is a statistically significant relationship between them. However, one study did insist that to make more concrete claims, higher correlation values overall between variables is needed.\n",
    "\n",
    "Another method to optimize models was recursive feature elimination, which is used on models that assigns weights to features, such as Random forest. To apply it, the model is trained on an initial set of features, producing a coefficient of importance for each feature. Features with the lowest coefficients are dropped and this process repreats iteratively until the desired number of features is reached. \n",
    "\n",
    "Aside from all the basic regression, classification, and layered models that I used, other studies also utilized logistic regression, k-fold cross-validation multiple Linear Regression, neural network, support vector machine models, and XGBoost multi-layer perceptron. There is a preference for supervised learning models for this dataset as the target variable is already known.\n",
    "\n",
    "Interestingly one study performed all their models first with default parameters, then went back to identify hyperparameters in order to optimize the algorithms. It was not explained how performance with the default parameters informed how to adjust the hyperparameters.\n",
    " \n",
    "In general, the RandomForest algorithm was found to produce the best results on the other researcher's transformed datasets. For one study, the logistic regression model had a higher accuracy,  but the random forest one was found to likely be more useful in identifying student failures because of its higher precision. In general, the nonlinear function methods were outperformed by the tree based ones. This behavior is hypothesized by the high number of irrelevant inputs that the nonlinear functions are sensitive to. For my modeling, I was only specifically comparing one relationship, G2 compared to G3, and did not perform any transformation on the data. For these specific variables, linear regression was the most accurate.\n",
    "\n",
    "Most studies used the mean squared error and r squared values to evaluate the performance of their models. The mean squared error evaluates how far on average the points are from the linear function depicting trend, so the value should be as small as possible. My best model had a mean squared error of 4.22, while the best model of the original study had an root mean-squared error of 3.90 on the mathematics dataset. Given the lack of rigorous preprocessing and sophistication of modeling, my results were unexpectedly decent.\n",
    "\n",
    "The researchers of one study believed that with this particular dataset, there is a sizable irreducible error that cannot be prevented by any algorithm. To significantly improve the algorithm, the input of much more data may help. "
   ]
  },
  {
   "cell_type": "markdown",
   "id": "63f9e56d-f733-4251-bad5-976a151228f5",
   "metadata": {},
   "source": [
    "### Humanistic Considerations: Merits & Limitations\n",
    "\n",
    "When the nature of the subject of study is humanistic, it is critical to conduct the research with this purpose in mind. This study is a good example of how machine learning can be used for applications to better reach underserved populations. It is important to note that often, the most underserved populations are also the ones that have lesser data collected of. In this dataset, some individuals' datapoints all became 0 or N/A at one point, presumably because they dropped out of school. Some students also simply did not complete the questionnaire or have properly kept records with the school. As such, in some studies, individuals' data may be removed during the cleaning process. Especially in a school setting, students who refuse to partcipate are also the ones that need more support. This results in participation bias and negligence of students who may actually need extra attenion. As such, when possible, care should be taken to identify those cases or at least acknowledged as a limitation of any model derived from such datasets.\n",
    "\n",
    "\n",
    "Another limitation shared among all studies using this dataset is that the data is from just two secondary schools, both in the Alentejo area of Portugal. To disregard the context of the data could harm the individuals the data represents (or neglects to represent). With the exploration of the data, there were also a substantial number of correlations that were expected to be found, but not. Given the context of wanting to improve school resource management and targeting students in need effectively, this study would greatly benefit from more social science research to make sense of the correlations or lack thereof to identify patterns and pinpoint root causes. \n",
    "\n",
    "For the purpose of improving Portuguese education, in further research, it would be useful to also contextualize the data by surveying other regions' schools with similar social, econmic, and political infrastructure. A more comprehensive model can be made from data collected from a wider variety of schools in terms of geographic area and demographics. All in all, a more comprehensive understanding about the patterns observed would lend to more astute technical adjustments and develop a more robust, insightful narrative for the machine learning. The need for first and second periods of grades found in all previous studies also hinders timely intervention to direct resources towards students and help them improve. Thus, exploration of the possibility to predict future performance with lesser reliance on first and second period grades would also be extremely useful to develop. "
   ]
  },
  {
   "cell_type": "markdown",
   "id": "2c988991-d2d9-4088-ae16-05e677497584",
   "metadata": {},
   "source": [
    "### Works Referenced\n",
    "\n",
    "P. Cortez and A. Silva. Using Data Mining to Predict Secondary School Student Performance. In A. Brito and J. Teixeira Eds., Proceedings of 5th FUture BUsiness TEChnology Conference (FUBUTEC 2008) pp. 5-12, Porto, Portugal, April, 2008, EUROSIS, ISBN 978-9077381-39-7.<br>\n",
    "\n",
    "B Gruher. Student-Performance-Prediction. https://github.com/bengruher/Student-Performance-Prediction. December, 2022.<br>\n",
    "\n",
    "Mattia Tarquinio. Student-Performance-Analysis. Politecnico di Torino. https://github.com/tarquo23/Student-Performance-Analysis"
   ]
  }
 ],
 "metadata": {
  "kernelspec": {
   "display_name": "Python 3 (ipykernel)",
   "language": "python",
   "name": "python3"
  },
  "language_info": {
   "codemirror_mode": {
    "name": "ipython",
    "version": 3
   },
   "file_extension": ".py",
   "mimetype": "text/x-python",
   "name": "python",
   "nbconvert_exporter": "python",
   "pygments_lexer": "ipython3",
   "version": "3.9.6"
  }
 },
 "nbformat": 4,
 "nbformat_minor": 5
}
